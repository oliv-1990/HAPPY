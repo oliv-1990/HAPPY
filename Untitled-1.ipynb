{
 "cells": [
  {
   "cell_type": "code",
   "execution_count": null,
   "id": "f9b362c5",
   "metadata": {},
   "outputs": [
    {
     "name": "stdout",
     "output_type": "stream",
     "text": [
      "World Development Indicators Sample:\n"
     ]
    },
    {
     "data": {
      "text/html": [
       "<div>\n",
       "<style scoped>\n",
       "    .dataframe tbody tr th:only-of-type {\n",
       "        vertical-align: middle;\n",
       "    }\n",
       "\n",
       "    .dataframe tbody tr th {\n",
       "        vertical-align: top;\n",
       "    }\n",
       "\n",
       "    .dataframe thead th {\n",
       "        text-align: right;\n",
       "    }\n",
       "</style>\n",
       "<table border=\"1\" class=\"dataframe\">\n",
       "  <thead>\n",
       "    <tr style=\"text-align: right;\">\n",
       "      <th></th>\n",
       "      <th>country</th>\n",
       "      <th>date</th>\n",
       "      <th>agricultural_land%</th>\n",
       "      <th>forest_land%</th>\n",
       "      <th>land_area</th>\n",
       "      <th>avg_precipitation</th>\n",
       "      <th>trade_in_services%</th>\n",
       "      <th>control_of_corruption_estimate</th>\n",
       "      <th>control_of_corruption_std</th>\n",
       "      <th>access_to_electricity%</th>\n",
       "      <th>...</th>\n",
       "      <th>multidimensional_poverty_headcount_ratio%</th>\n",
       "      <th>gini_index</th>\n",
       "      <th>birth_rate</th>\n",
       "      <th>death_rate</th>\n",
       "      <th>life_expectancy_at_birth</th>\n",
       "      <th>population</th>\n",
       "      <th>rural_population</th>\n",
       "      <th>voice_and_accountability_estimate</th>\n",
       "      <th>voice_and_accountability_std</th>\n",
       "      <th>intentional_homicides</th>\n",
       "    </tr>\n",
       "  </thead>\n",
       "  <tbody>\n",
       "    <tr>\n",
       "      <th>0</th>\n",
       "      <td>Afghanistan</td>\n",
       "      <td>1960-01-01</td>\n",
       "      <td>NaN</td>\n",
       "      <td>NaN</td>\n",
       "      <td>NaN</td>\n",
       "      <td>NaN</td>\n",
       "      <td>NaN</td>\n",
       "      <td>NaN</td>\n",
       "      <td>NaN</td>\n",
       "      <td>NaN</td>\n",
       "      <td>...</td>\n",
       "      <td>NaN</td>\n",
       "      <td>NaN</td>\n",
       "      <td>50.340</td>\n",
       "      <td>31.921</td>\n",
       "      <td>32.535</td>\n",
       "      <td>8622466.0</td>\n",
       "      <td>7898093.0</td>\n",
       "      <td>NaN</td>\n",
       "      <td>NaN</td>\n",
       "      <td>NaN</td>\n",
       "    </tr>\n",
       "    <tr>\n",
       "      <th>1</th>\n",
       "      <td>Afghanistan</td>\n",
       "      <td>1961-01-01</td>\n",
       "      <td>57.878356</td>\n",
       "      <td>NaN</td>\n",
       "      <td>652230.0</td>\n",
       "      <td>327.0</td>\n",
       "      <td>NaN</td>\n",
       "      <td>NaN</td>\n",
       "      <td>NaN</td>\n",
       "      <td>NaN</td>\n",
       "      <td>...</td>\n",
       "      <td>NaN</td>\n",
       "      <td>NaN</td>\n",
       "      <td>50.443</td>\n",
       "      <td>31.349</td>\n",
       "      <td>33.068</td>\n",
       "      <td>8790140.0</td>\n",
       "      <td>8026804.0</td>\n",
       "      <td>NaN</td>\n",
       "      <td>NaN</td>\n",
       "      <td>NaN</td>\n",
       "    </tr>\n",
       "    <tr>\n",
       "      <th>2</th>\n",
       "      <td>Afghanistan</td>\n",
       "      <td>1962-01-01</td>\n",
       "      <td>57.955016</td>\n",
       "      <td>NaN</td>\n",
       "      <td>652230.0</td>\n",
       "      <td>327.0</td>\n",
       "      <td>NaN</td>\n",
       "      <td>NaN</td>\n",
       "      <td>NaN</td>\n",
       "      <td>NaN</td>\n",
       "      <td>...</td>\n",
       "      <td>NaN</td>\n",
       "      <td>NaN</td>\n",
       "      <td>50.570</td>\n",
       "      <td>30.845</td>\n",
       "      <td>33.547</td>\n",
       "      <td>8969047.0</td>\n",
       "      <td>8163985.0</td>\n",
       "      <td>NaN</td>\n",
       "      <td>NaN</td>\n",
       "      <td>NaN</td>\n",
       "    </tr>\n",
       "    <tr>\n",
       "      <th>3</th>\n",
       "      <td>Afghanistan</td>\n",
       "      <td>1963-01-01</td>\n",
       "      <td>58.031676</td>\n",
       "      <td>NaN</td>\n",
       "      <td>652230.0</td>\n",
       "      <td>327.0</td>\n",
       "      <td>NaN</td>\n",
       "      <td>NaN</td>\n",
       "      <td>NaN</td>\n",
       "      <td>NaN</td>\n",
       "      <td>...</td>\n",
       "      <td>NaN</td>\n",
       "      <td>NaN</td>\n",
       "      <td>50.703</td>\n",
       "      <td>30.359</td>\n",
       "      <td>34.016</td>\n",
       "      <td>9157465.0</td>\n",
       "      <td>8308019.0</td>\n",
       "      <td>NaN</td>\n",
       "      <td>NaN</td>\n",
       "      <td>NaN</td>\n",
       "    </tr>\n",
       "    <tr>\n",
       "      <th>4</th>\n",
       "      <td>Afghanistan</td>\n",
       "      <td>1964-01-01</td>\n",
       "      <td>58.116002</td>\n",
       "      <td>NaN</td>\n",
       "      <td>652230.0</td>\n",
       "      <td>327.0</td>\n",
       "      <td>NaN</td>\n",
       "      <td>NaN</td>\n",
       "      <td>NaN</td>\n",
       "      <td>NaN</td>\n",
       "      <td>...</td>\n",
       "      <td>NaN</td>\n",
       "      <td>NaN</td>\n",
       "      <td>50.831</td>\n",
       "      <td>29.867</td>\n",
       "      <td>34.494</td>\n",
       "      <td>9355514.0</td>\n",
       "      <td>8458694.0</td>\n",
       "      <td>NaN</td>\n",
       "      <td>NaN</td>\n",
       "      <td>NaN</td>\n",
       "    </tr>\n",
       "  </tbody>\n",
       "</table>\n",
       "<p>5 rows × 50 columns</p>\n",
       "</div>"
      ],
      "text/plain": [
       "       country        date  agricultural_land%  forest_land%  land_area  \\\n",
       "0  Afghanistan  1960-01-01                 NaN           NaN        NaN   \n",
       "1  Afghanistan  1961-01-01           57.878356           NaN   652230.0   \n",
       "2  Afghanistan  1962-01-01           57.955016           NaN   652230.0   \n",
       "3  Afghanistan  1963-01-01           58.031676           NaN   652230.0   \n",
       "4  Afghanistan  1964-01-01           58.116002           NaN   652230.0   \n",
       "\n",
       "   avg_precipitation  trade_in_services%  control_of_corruption_estimate  \\\n",
       "0                NaN                 NaN                             NaN   \n",
       "1              327.0                 NaN                             NaN   \n",
       "2              327.0                 NaN                             NaN   \n",
       "3              327.0                 NaN                             NaN   \n",
       "4              327.0                 NaN                             NaN   \n",
       "\n",
       "   control_of_corruption_std  access_to_electricity%  ...  \\\n",
       "0                        NaN                     NaN  ...   \n",
       "1                        NaN                     NaN  ...   \n",
       "2                        NaN                     NaN  ...   \n",
       "3                        NaN                     NaN  ...   \n",
       "4                        NaN                     NaN  ...   \n",
       "\n",
       "   multidimensional_poverty_headcount_ratio%  gini_index  birth_rate  \\\n",
       "0                                        NaN         NaN      50.340   \n",
       "1                                        NaN         NaN      50.443   \n",
       "2                                        NaN         NaN      50.570   \n",
       "3                                        NaN         NaN      50.703   \n",
       "4                                        NaN         NaN      50.831   \n",
       "\n",
       "   death_rate  life_expectancy_at_birth  population  rural_population  \\\n",
       "0      31.921                    32.535   8622466.0         7898093.0   \n",
       "1      31.349                    33.068   8790140.0         8026804.0   \n",
       "2      30.845                    33.547   8969047.0         8163985.0   \n",
       "3      30.359                    34.016   9157465.0         8308019.0   \n",
       "4      29.867                    34.494   9355514.0         8458694.0   \n",
       "\n",
       "   voice_and_accountability_estimate  voice_and_accountability_std  \\\n",
       "0                                NaN                           NaN   \n",
       "1                                NaN                           NaN   \n",
       "2                                NaN                           NaN   \n",
       "3                                NaN                           NaN   \n",
       "4                                NaN                           NaN   \n",
       "\n",
       "   intentional_homicides  \n",
       "0                    NaN  \n",
       "1                    NaN  \n",
       "2                    NaN  \n",
       "3                    NaN  \n",
       "4                    NaN  \n",
       "\n",
       "[5 rows x 50 columns]"
      ]
     },
     "metadata": {},
     "output_type": "display_data"
    },
    {
     "name": "stdout",
     "output_type": "stream",
     "text": [
      "\n",
      "World Happiness Report Sample:\n"
     ]
    },
    {
     "data": {
      "text/html": [
       "<div>\n",
       "<style scoped>\n",
       "    .dataframe tbody tr th:only-of-type {\n",
       "        vertical-align: middle;\n",
       "    }\n",
       "\n",
       "    .dataframe tbody tr th {\n",
       "        vertical-align: top;\n",
       "    }\n",
       "\n",
       "    .dataframe thead th {\n",
       "        text-align: right;\n",
       "    }\n",
       "</style>\n",
       "<table border=\"1\" class=\"dataframe\">\n",
       "  <thead>\n",
       "    <tr style=\"text-align: right;\">\n",
       "      <th></th>\n",
       "      <th>Country Name</th>\n",
       "      <th>Regional Indicator</th>\n",
       "      <th>Year</th>\n",
       "      <th>Life Ladder</th>\n",
       "      <th>Log GDP Per Capita</th>\n",
       "      <th>Social Support</th>\n",
       "      <th>Healthy Life Expectancy At Birth</th>\n",
       "      <th>Freedom To Make Life Choices</th>\n",
       "      <th>Generosity</th>\n",
       "      <th>Perceptions Of Corruption</th>\n",
       "      <th>Positive Affect</th>\n",
       "      <th>Negative Affect</th>\n",
       "      <th>Confidence In National Government</th>\n",
       "    </tr>\n",
       "  </thead>\n",
       "  <tbody>\n",
       "    <tr>\n",
       "      <th>0</th>\n",
       "      <td>Afghanistan</td>\n",
       "      <td>South Asia</td>\n",
       "      <td>2008</td>\n",
       "      <td>3.723590</td>\n",
       "      <td>7.350416</td>\n",
       "      <td>0.450662</td>\n",
       "      <td>50.500000</td>\n",
       "      <td>0.718114</td>\n",
       "      <td>0.167652</td>\n",
       "      <td>0.881686</td>\n",
       "      <td>0.414297</td>\n",
       "      <td>0.258195</td>\n",
       "      <td>0.612072</td>\n",
       "    </tr>\n",
       "    <tr>\n",
       "      <th>1</th>\n",
       "      <td>Afghanistan</td>\n",
       "      <td>South Asia</td>\n",
       "      <td>2009</td>\n",
       "      <td>4.401778</td>\n",
       "      <td>7.508646</td>\n",
       "      <td>0.552308</td>\n",
       "      <td>50.799999</td>\n",
       "      <td>0.678896</td>\n",
       "      <td>0.190809</td>\n",
       "      <td>0.850035</td>\n",
       "      <td>0.481421</td>\n",
       "      <td>0.237092</td>\n",
       "      <td>0.611545</td>\n",
       "    </tr>\n",
       "    <tr>\n",
       "      <th>2</th>\n",
       "      <td>Afghanistan</td>\n",
       "      <td>South Asia</td>\n",
       "      <td>2010</td>\n",
       "      <td>4.758381</td>\n",
       "      <td>7.613900</td>\n",
       "      <td>0.539075</td>\n",
       "      <td>51.099998</td>\n",
       "      <td>0.600127</td>\n",
       "      <td>0.121316</td>\n",
       "      <td>0.706766</td>\n",
       "      <td>0.516907</td>\n",
       "      <td>0.275324</td>\n",
       "      <td>0.299357</td>\n",
       "    </tr>\n",
       "    <tr>\n",
       "      <th>3</th>\n",
       "      <td>Afghanistan</td>\n",
       "      <td>South Asia</td>\n",
       "      <td>2011</td>\n",
       "      <td>3.831719</td>\n",
       "      <td>7.581259</td>\n",
       "      <td>0.521104</td>\n",
       "      <td>51.400002</td>\n",
       "      <td>0.495901</td>\n",
       "      <td>0.163571</td>\n",
       "      <td>0.731109</td>\n",
       "      <td>0.479835</td>\n",
       "      <td>0.267175</td>\n",
       "      <td>0.307386</td>\n",
       "    </tr>\n",
       "    <tr>\n",
       "      <th>4</th>\n",
       "      <td>Afghanistan</td>\n",
       "      <td>South Asia</td>\n",
       "      <td>2012</td>\n",
       "      <td>3.782938</td>\n",
       "      <td>7.660506</td>\n",
       "      <td>0.520637</td>\n",
       "      <td>51.700001</td>\n",
       "      <td>0.530935</td>\n",
       "      <td>0.237588</td>\n",
       "      <td>0.775620</td>\n",
       "      <td>0.613513</td>\n",
       "      <td>0.267919</td>\n",
       "      <td>0.435440</td>\n",
       "    </tr>\n",
       "  </tbody>\n",
       "</table>\n",
       "</div>"
      ],
      "text/plain": [
       "  Country Name Regional Indicator  Year  Life Ladder  Log GDP Per Capita  \\\n",
       "0  Afghanistan         South Asia  2008     3.723590            7.350416   \n",
       "1  Afghanistan         South Asia  2009     4.401778            7.508646   \n",
       "2  Afghanistan         South Asia  2010     4.758381            7.613900   \n",
       "3  Afghanistan         South Asia  2011     3.831719            7.581259   \n",
       "4  Afghanistan         South Asia  2012     3.782938            7.660506   \n",
       "\n",
       "   Social Support  Healthy Life Expectancy At Birth  \\\n",
       "0        0.450662                         50.500000   \n",
       "1        0.552308                         50.799999   \n",
       "2        0.539075                         51.099998   \n",
       "3        0.521104                         51.400002   \n",
       "4        0.520637                         51.700001   \n",
       "\n",
       "   Freedom To Make Life Choices  Generosity  Perceptions Of Corruption  \\\n",
       "0                      0.718114    0.167652                   0.881686   \n",
       "1                      0.678896    0.190809                   0.850035   \n",
       "2                      0.600127    0.121316                   0.706766   \n",
       "3                      0.495901    0.163571                   0.731109   \n",
       "4                      0.530935    0.237588                   0.775620   \n",
       "\n",
       "   Positive Affect  Negative Affect  Confidence In National Government  \n",
       "0         0.414297         0.258195                           0.612072  \n",
       "1         0.481421         0.237092                           0.611545  \n",
       "2         0.516907         0.275324                           0.299357  \n",
       "3         0.479835         0.267175                           0.307386  \n",
       "4         0.613513         0.267919                           0.435440  "
      ]
     },
     "metadata": {},
     "output_type": "display_data"
    }
   ],
   "source": [
    "# === SETUP CELL: Import Libraries & Load Data === #\n",
    "\n",
    "import pandas as pd\n",
    "import numpy as np\n",
    "import matplotlib.pyplot as plt\n",
    "import seaborn as sns\n",
    "sns.set(style=\"whitegrid\", palette=\"muted\")\n",
    "from sklearn.ensemble import RandomForestRegressor\n",
    "from sklearn.model_selection import train_test_split\n",
    "from sklearn.metrics import mean_squared_error, r2_score\n",
    "\n",
    "# Use relative file paths \n",
    "dev_path = \"./data/world_dev_indicators.csv\"\n",
    "happiness_path = \"./data/World_Happiness_Report.csv\"\n",
    "\n",
    "# Load datasets\n",
    "dev_df = pd.read_csv(dev_path)\n",
    "happiness_df = pd.read_csv(happiness_path)\n",
    "\n",
    "# Backup original before any modifications\n",
    "dev_df_original = dev_df.copy()\n",
    "happiness_df_original = happiness_df.copy()  \n",
    "\n",
    "print(\"World Development Indicators Sample:\")\n",
    "display(dev_df.head())\n",
    "\n",
    "print(\"\\nWorld Happiness Report Sample:\")\n",
    "display(happiness_df.head())\n"
   ]
  },
  {
   "cell_type": "code",
   "execution_count": 33,
   "id": "646e651b",
   "metadata": {},
   "outputs": [],
   "source": [
    "# Convert 'date' column from string to datetime format\n",
    "dev_df['date'] = pd.to_datetime(dev_df['date'], errors='coerce')\n",
    "\n",
    "# Extract the year from the datetime 'date' column and store it as an integer in a new 'Year' column\n",
    "# Using 'Int32' dtype allows missing values (<NA>) in case some dates were invalid or missing\n",
    "dev_df['Year'] = dev_df['date'].dt.year.astype('Int32')\n",
    "\n",
    "# Drop the original 'date' column as it is no longer needed\n",
    "dev_df.drop(columns=['date'], inplace=True)\n"
   ]
  },
  {
   "cell_type": "code",
   "execution_count": 35,
   "id": "b2fe1de3",
   "metadata": {},
   "outputs": [
    {
     "name": "stdout",
     "output_type": "stream",
     "text": [
      "=== Column Names in dev_df ===\n",
      "['country', 'agricultural_land%', 'forest_land%', 'land_area', 'avg_precipitation', 'trade_in_services%', 'control_of_corruption_estimate', 'control_of_corruption_std', 'access_to_electricity%', 'renewvable_energy_consumption%', 'electric_power_consumption', 'CO2_emisions', 'other_greenhouse_emisions', 'population_density', 'inflation_annual%', 'real_interest_rate', 'risk_premium_on_lending', 'research_and_development_expenditure%', 'central_goverment_debt%', 'tax_revenue%', 'expense%', 'goverment_effectiveness_estimate', 'goverment_effectiveness_std', 'human_capital_index', 'doing_business', 'time_to_get_operation_license', 'statistical_performance_indicators', 'individuals_using_internet%', 'logistic_performance_index', 'military_expenditure%', 'GDP_current_US', 'political_stability_estimate', 'political_stability_std', 'rule_of_law_estimate', 'rule_of_law_std', 'regulatory_quality_estimate', 'regulatory_quality_std', 'government_expenditure_on_education%', 'government_health_expenditure%', 'multidimensional_poverty_headcount_ratio%', 'gini_index', 'birth_rate', 'death_rate', 'life_expectancy_at_birth', 'population', 'rural_population', 'voice_and_accountability_estimate', 'voice_and_accountability_std', 'intentional_homicides', 'Year']\n"
     ]
    }
   ],
   "source": [
    "# Show all column names in dev_df\n",
    "print(\"=== Column Names in dev_df ===\")\n",
    "print(dev_df.columns.tolist())\n"
   ]
  },
  {
   "cell_type": "code",
   "execution_count": 12,
   "id": "a85d07bd",
   "metadata": {},
   "outputs": [],
   "source": [
    "# EXPERIMENTING WITH TYPES INT32 INT64\n",
    "dev_df['Year'] = dev_df['Year'].astype('int64')\n"
   ]
  },
  {
   "cell_type": "code",
   "execution_count": 34,
   "id": "bb5643c2",
   "metadata": {},
   "outputs": [
    {
     "name": "stdout",
     "output_type": "stream",
     "text": [
      "Int32\n"
     ]
    }
   ],
   "source": [
    "print(dev_df['Year'].dtype)\n",
    "\n"
   ]
  },
  {
   "cell_type": "code",
   "execution_count": null,
   "id": "b72d1fe4",
   "metadata": {},
   "outputs": [
    {
     "name": "stdout",
     "output_type": "stream",
     "text": [
      "<IntegerArray>\n",
      "[1960, 1961, 1962, 1963, 1964, 1965, 1966, 1967, 1968, 1969, 1970, 1971, 1972,\n",
      " 1973, 1974, 1975, 1976, 1977, 1978, 1979, 1980, 1981, 1982, 1983, 1984, 1985,\n",
      " 1986, 1987, 1988, 1989, 1990, 1991, 1992, 1993, 1994, 1995, 1996, 1997, 1998,\n",
      " 1999, 2000, 2001, 2002, 2003, 2004, 2005, 2006, 2007, 2008, 2009, 2010, 2011,\n",
      " 2012, 2013, 2014, 2015, 2016, 2017, 2018, 2019, 2020, 2021, 2022, 2023]\n",
      "Length: 64, dtype: Int32\n"
     ]
    }
   ],
   "source": [
    "# Showing  unique years including missing values (NaN/NA)\n",
    "unique_years_with_na = dev_df['Year'].unique()\n",
    "print(unique_years_with_na)\n"
   ]
  },
  {
   "cell_type": "code",
   "execution_count": null,
   "id": "f0e37a5a",
   "metadata": {},
   "outputs": [
    {
     "name": "stdout",
     "output_type": "stream",
     "text": [
      "country: 100.00%\n",
      "agricultural_land%: 85.19%\n",
      "forest_land%: 47.34%\n",
      "land_area: 86.44%\n",
      "avg_precipitation: 58.40%\n",
      "trade_in_services%: 53.24%\n",
      "control_of_corruption_estimate: 27.69%\n",
      "control_of_corruption_std: 27.69%\n",
      "access_to_electricity%: 42.54%\n",
      "renewvable_energy_consumption%: 46.76%\n",
      "electric_power_consumption: 45.10%\n",
      "CO2_emisions: 42.89%\n",
      "other_greenhouse_emisions: 42.89%\n",
      "population_density: 86.27%\n",
      "inflation_annual%: 62.46%\n",
      "real_interest_rate: 25.57%\n",
      "risk_premium_on_lending: 13.72%\n",
      "research_and_development_expenditure%: 16.73%\n",
      "central_goverment_debt%: 12.04%\n",
      "tax_revenue%: 29.67%\n",
      "expense%: 27.61%\n",
      "goverment_effectiveness_estimate: 27.55%\n",
      "goverment_effectiveness_std: 27.55%\n",
      "human_capital_index: 3.48%\n",
      "doing_business: 1.09%\n",
      "time_to_get_operation_license: 2.15%\n",
      "statistical_performance_indicators: 7.16%\n",
      "individuals_using_internet%: 46.57%\n",
      "logistic_performance_index: 8.15%\n",
      "military_expenditure%: 58.60%\n",
      "GDP_current_US: 76.41%\n",
      "political_stability_estimate: 27.91%\n",
      "political_stability_std: 27.91%\n",
      "rule_of_law_estimate: 28.21%\n",
      "rule_of_law_std: 28.21%\n",
      "regulatory_quality_estimate: 27.56%\n",
      "regulatory_quality_std: 27.56%\n",
      "government_expenditure_on_education%: 35.36%\n",
      "government_health_expenditure%: 28.59%\n",
      "multidimensional_poverty_headcount_ratio%: 2.63%\n",
      "gini_index: 12.20%\n",
      "birth_rate: 92.85%\n",
      "death_rate: 92.75%\n",
      "life_expectancy_at_birth: 91.86%\n",
      "population: 96.49%\n",
      "rural_population: 95.76%\n",
      "voice_and_accountability_estimate: 28.08%\n",
      "voice_and_accountability_std: 28.08%\n",
      "intentional_homicides: 24.37%\n",
      "Year: 100.00%\n"
     ]
    }
   ],
   "source": [
    "# Looping through each column in the DataFrame\n",
    "for col in dev_df.columns:\n",
    "    # non missing values\n",
    "    non_missing = dev_df[col].notna().sum()\n",
    "    \n",
    "    # numbers of rows in the column\n",
    "    total = len(dev_df[col])\n",
    "    \n",
    "    # Here i am calculating the percentage of non-missing data in this column\n",
    "    percent_present = (non_missing / total) * 100\n",
    "    print(f\"{col}: {percent_present:.2f}%\")\n"
   ]
  },
  {
   "cell_type": "code",
   "execution_count": 41,
   "id": "8c19dc94",
   "metadata": {},
   "outputs": [],
   "source": [
    "dev_df_filtered = dev_df[(dev_df['Year'] >= 2005) & (dev_df['Year'] <= 2022)]"
   ]
  },
  {
   "cell_type": "code",
   "execution_count": null,
   "id": "1cbe38c1",
   "metadata": {},
   "outputs": [],
   "source": [
    "# RENAMING COLUMNS\n",
    "dev_df.rename(columns={\n",
    "    'military_expenditure%': 'military_expenditure',\n",
    "    'access_to_electricity%': 'access_to_electricity',\n",
    "    'research_and_development_expenditure%': 'research_and_development_expenditure',\n",
    "    'government_expenditure_on_education%': 'government_expenditure_on_education',\n",
    "    'government_health_expenditure%': 'government_health_expenditure',\n",
    "    'renewvable_energy_consumption%': 'renewvable_energy_consumption',\n",
    "    'research_and_development_expenditure%': 'research_and_development_expenditure',\n",
    "}, inplace=True)\n"
   ]
  },
  {
   "cell_type": "code",
   "execution_count": null,
   "id": "78f4fb89",
   "metadata": {},
   "outputs": [
    {
     "name": "stdout",
     "output_type": "stream",
     "text": [
      "        country  Year  military_expenditure  access_to_electricity  \\\n",
      "45  Afghanistan  2005              1.992066              28.669672   \n",
      "46  Afghanistan  2006              1.896234              33.544418   \n",
      "47  Afghanistan  2007              2.566267              38.440002   \n",
      "48  Afghanistan  2008              2.335546              42.400000   \n",
      "49  Afghanistan  2009              2.087413              48.279007   \n",
      "\n",
      "    population_density  government_expenditure_on_education  \\\n",
      "45           37.427274                                  NaN   \n",
      "46           39.009159                             4.684761   \n",
      "47           39.714979                             4.174895   \n",
      "48           40.518221                             4.383672   \n",
      "49           41.987193                             4.810640   \n",
      "\n",
      "    government_health_expenditure  rural_population  \\\n",
      "45                       0.529184        18869118.0   \n",
      "46                       0.497840        19614729.0   \n",
      "47                       0.559948        19916271.0   \n",
      "48                       0.627800        20264376.0   \n",
      "49                       0.531904        20942092.0   \n",
      "\n",
      "    renewvable_energy_consumption  research_and_development_expenditure  \n",
      "45                          33.88                                   NaN  \n",
      "46                          31.89                                   NaN  \n",
      "47                          28.78                                   NaN  \n",
      "48                          21.17                                   NaN  \n",
      "49                          16.53                                   NaN  \n"
     ]
    }
   ],
   "source": [
    "# DEFINING THE COLUMNS TO KEEP \n",
    "columns_to_keep = [\n",
    "    'country', 'Year', 'military_expenditure',\n",
    "    'access_to_electricity', 'population_density',\n",
    "    'government_expenditure_on_education',\n",
    "    'government_health_expenditure',\n",
    "    'rural_population',\n",
    "    'renewvable_energy_consumption',\n",
    "    'research_and_development_expenditure',\n",
    "]\n",
    "\n",
    "# CREATING TRIMMED DATAFRAME ===\n",
    "dev_df_trimmed = dev_df_filtered[columns_to_keep].copy()\n",
    "\n",
    "# checking dataframe\n",
    "print(dev_df_trimmed.head())"
   ]
  },
  {
   "cell_type": "code",
   "execution_count": 48,
   "id": "de5b95ee",
   "metadata": {},
   "outputs": [
    {
     "name": "stdout",
     "output_type": "stream",
     "text": [
      "                                      missing_values data_type\n",
      "country                                            0    object\n",
      "Year                                               0     Int32\n",
      "military_expenditure                            1409   float64\n",
      "access_to_electricity                            453   float64\n",
      "population_density                               455   float64\n",
      "government_expenditure_on_education             1562   float64\n",
      "government_health_expenditure                   1145   float64\n",
      "rural_population                                 182   float64\n",
      "renewvable_energy_consumption                    692   float64\n",
      "research_and_development_expenditure            2916   float64\n"
     ]
    }
   ],
   "source": [
    "missing = dev_df_trimmed.isna().sum()\n",
    "dtypes = dev_df_trimmed.dtypes\n",
    "\n",
    "summary = pd.DataFrame({'missing_values': missing, 'data_type': dtypes})\n",
    "print(summary)\n"
   ]
  },
  {
   "cell_type": "code",
   "execution_count": 49,
   "id": "5112b74b",
   "metadata": {},
   "outputs": [
    {
     "data": {
      "text/html": [
       "<div>\n",
       "<style scoped>\n",
       "    .dataframe tbody tr th:only-of-type {\n",
       "        vertical-align: middle;\n",
       "    }\n",
       "\n",
       "    .dataframe tbody tr th {\n",
       "        vertical-align: top;\n",
       "    }\n",
       "\n",
       "    .dataframe thead th {\n",
       "        text-align: right;\n",
       "    }\n",
       "</style>\n",
       "<table border=\"1\" class=\"dataframe\">\n",
       "  <thead>\n",
       "    <tr style=\"text-align: right;\">\n",
       "      <th></th>\n",
       "      <th>Missing Values</th>\n",
       "      <th>% Missing</th>\n",
       "    </tr>\n",
       "  </thead>\n",
       "  <tbody>\n",
       "    <tr>\n",
       "      <th>research_and_development_expenditure</th>\n",
       "      <td>2916</td>\n",
       "      <td>59.316517</td>\n",
       "    </tr>\n",
       "    <tr>\n",
       "      <th>government_expenditure_on_education</th>\n",
       "      <td>1562</td>\n",
       "      <td>31.773800</td>\n",
       "    </tr>\n",
       "    <tr>\n",
       "      <th>military_expenditure</th>\n",
       "      <td>1409</td>\n",
       "      <td>28.661513</td>\n",
       "    </tr>\n",
       "    <tr>\n",
       "      <th>government_health_expenditure</th>\n",
       "      <td>1145</td>\n",
       "      <td>23.291294</td>\n",
       "    </tr>\n",
       "    <tr>\n",
       "      <th>renewvable_energy_consumption</th>\n",
       "      <td>692</td>\n",
       "      <td>14.076485</td>\n",
       "    </tr>\n",
       "    <tr>\n",
       "      <th>population_density</th>\n",
       "      <td>455</td>\n",
       "      <td>9.255492</td>\n",
       "    </tr>\n",
       "    <tr>\n",
       "      <th>access_to_electricity</th>\n",
       "      <td>453</td>\n",
       "      <td>9.214809</td>\n",
       "    </tr>\n",
       "    <tr>\n",
       "      <th>rural_population</th>\n",
       "      <td>182</td>\n",
       "      <td>3.702197</td>\n",
       "    </tr>\n",
       "  </tbody>\n",
       "</table>\n",
       "</div>"
      ],
      "text/plain": [
       "                                      Missing Values  % Missing\n",
       "research_and_development_expenditure            2916  59.316517\n",
       "government_expenditure_on_education             1562  31.773800\n",
       "military_expenditure                            1409  28.661513\n",
       "government_health_expenditure                   1145  23.291294\n",
       "renewvable_energy_consumption                    692  14.076485\n",
       "population_density                               455   9.255492\n",
       "access_to_electricity                            453   9.214809\n",
       "rural_population                                 182   3.702197"
      ]
     },
     "execution_count": 49,
     "metadata": {},
     "output_type": "execute_result"
    }
   ],
   "source": [
    "missing_info = dev_df_trimmed.isnull().sum().to_frame(name='Missing Values')\n",
    "missing_info['% Missing'] = 100 * missing_info['Missing Values'] / len(dev_df_trimmed)\n",
    "missing_info = missing_info[missing_info['Missing Values'] > 0]\n",
    "missing_info.sort_values('% Missing', ascending=False)"
   ]
  },
  {
   "cell_type": "code",
   "execution_count": 47,
   "id": "d0252f90",
   "metadata": {},
   "outputs": [
    {
     "data": {
      "text/plain": [
       "False"
      ]
     },
     "execution_count": 47,
     "metadata": {},
     "output_type": "execute_result"
    }
   ],
   "source": [
    "'happiness_missing_summary' in globals()\n"
   ]
  },
  {
   "cell_type": "code",
   "execution_count": null,
   "id": "c81718e0",
   "metadata": {},
   "outputs": [],
   "source": [
    "# Experimenting\n",
    "dev_df['Year'] = dev_df['Year'].astype('int64')\n"
   ]
  },
  {
   "cell_type": "code",
   "execution_count": 53,
   "id": "200280c5",
   "metadata": {},
   "outputs": [
    {
     "name": "stdout",
     "output_type": "stream",
     "text": [
      "country\n",
      "Regional Indicator\n",
      "Year\n",
      "Life Ladder\n",
      "Log GDP Per Capita\n",
      "Social Support\n",
      "Healthy Life Expectancy At Birth\n",
      "Freedom To Make Life Choices\n",
      "Generosity\n",
      "Perceptions Of Corruption\n",
      "Positive Affect\n",
      "Negative Affect\n",
      "Confidence In National Government\n"
     ]
    }
   ],
   "source": [
    "for col in happiness_df.columns:\n",
    "    print(col)"
   ]
  },
  {
   "cell_type": "code",
   "execution_count": 51,
   "id": "4a941e97",
   "metadata": {},
   "outputs": [],
   "source": [
    "happiness_df.rename(columns={'Country Name': 'country'}, inplace=True)\n"
   ]
  },
  {
   "cell_type": "code",
   "execution_count": null,
   "id": "4b10f686",
   "metadata": {},
   "outputs": [
    {
     "name": "stdout",
     "output_type": "stream",
     "text": [
      "country: 100.00% data present\n",
      "Regional Indicator: 94.91% data present\n",
      "Year: 100.00% data present\n",
      "Life Ladder: 100.00% data present\n",
      "Log GDP Per Capita: 99.09% data present\n",
      "Social Support: 99.41% data present\n",
      "Healthy Life Expectancy At Birth: 97.54% data present\n",
      "Freedom To Make Life Choices: 98.50% data present\n",
      "Generosity: 96.68% data present\n",
      "Perceptions Of Corruption: 94.72% data present\n",
      "Positive Affect: 98.91% data present\n",
      "Negative Affect: 99.27% data present\n",
      "Confidence In National Government: 83.58% data present\n"
     ]
    }
   ],
   "source": [
    "# Looping through each column in happiness_df and calculating percentage of non-missing data\n",
    "for col in happiness_df.columns:\n",
    "    non_missing = happiness_df[col].notna().sum()\n",
    "    total = len(happiness_df[col])\n",
    "    percent_present = (non_missing / total) * 100\n",
    "    print(f\"{col}: {percent_present:.2f}% data present\")\n"
   ]
  },
  {
   "cell_type": "code",
   "execution_count": null,
   "id": "02a1fddc",
   "metadata": {},
   "outputs": [
    {
     "name": "stdout",
     "output_type": "stream",
     "text": [
      "=== Missing Data Summary for happiness_df ===\n",
      "                                   Missing Values  % Missing Data Type\n",
      "Confidence In National Government             361  16.416553   float64\n",
      "Perceptions Of Corruption                     116   5.275125   float64\n",
      "Regional Indicator                            112   5.093224    object\n",
      "Generosity                                     73   3.319691   float64\n",
      "Healthy Life Expectancy At Birth               54   2.455662   float64\n",
      "Freedom To Make Life Choices                   33   1.500682   float64\n",
      "Positive Affect                                24   1.091405   float64\n",
      "Log GDP Per Capita                             20   0.909504   float64\n",
      "Negative Affect                                16   0.727603   float64\n",
      "Social Support                                 13   0.591178   float64\n"
     ]
    }
   ],
   "source": [
    "# Counting missing values\n",
    "happiness_missing_summary = happiness_df.isnull().sum().to_frame(name='Missing Values')\n",
    "happiness_missing_summary['% Missing'] = 100 * happiness_missing_summary['Missing Values'] / len(happiness_df)\n",
    "happiness_missing_summary['Data Type'] = happiness_df.dtypes\n",
    "happiness_missing_summary = happiness_missing_summary[happiness_missing_summary['Missing Values'] > 0]\n",
    "happiness_missing_summary = happiness_missing_summary.sort_values('% Missing', ascending=False)\n",
    "print(\"=== Missing Data Summary for happiness_df ===\")\n",
    "print(happiness_missing_summary)\n"
   ]
  },
  {
   "cell_type": "code",
   "execution_count": 52,
   "id": "e346d8ca",
   "metadata": {},
   "outputs": [
    {
     "name": "stdout",
     "output_type": "stream",
     "text": [
      "country: object\n",
      "Regional Indicator: object\n",
      "Year: int64\n",
      "Life Ladder: float64\n",
      "Log GDP Per Capita: float64\n",
      "Social Support: float64\n",
      "Healthy Life Expectancy At Birth: float64\n",
      "Freedom To Make Life Choices: float64\n",
      "Generosity: float64\n",
      "Perceptions Of Corruption: float64\n",
      "Positive Affect: float64\n",
      "Negative Affect: float64\n",
      "Confidence In National Government: float64\n"
     ]
    }
   ],
   "source": [
    "for col, dtype in happiness_df.dtypes.items():\n",
    "    print(f\"{col}: {dtype}\")\n"
   ]
  },
  {
   "cell_type": "code",
   "execution_count": null,
   "id": "55c3e1a9",
   "metadata": {},
   "outputs": [
    {
     "name": "stdout",
     "output_type": "stream",
     "text": [
      "Int32\n"
     ]
    }
   ],
   "source": [
    "# converting  Year column to Int32 type\n",
    "happiness_df['Year'] = happiness_df['Year'].astype('Int32')\n",
    "\n",
    "#  TRYING  TO Check the result\n",
    "print(happiness_df.dtypes['Year'])\n"
   ]
  },
  {
   "cell_type": "code",
   "execution_count": null,
   "id": "b256ed1a",
   "metadata": {},
   "outputs": [
    {
     "name": "stdout",
     "output_type": "stream",
     "text": [
      "country: object\n",
      "Regional Indicator: object\n",
      "Year: Int32\n",
      "Life Ladder: float64\n",
      "Log GDP Per Capita: float64\n",
      "Social Support: float64\n",
      "Healthy Life Expectancy At Birth: float64\n",
      "Freedom To Make Life Choices: float64\n",
      "Generosity: float64\n",
      "Perceptions Of Corruption: float64\n",
      "Positive Affect: float64\n",
      "Negative Affect: float64\n",
      "Confidence In National Government: float64\n"
     ]
    }
   ],
   "source": [
    "# Experimenting\n",
    "for col in happiness_df.columns:\n",
    "    print(f\"{col}: {happiness_df.dtypes[col]}\")\n"
   ]
  },
  {
   "cell_type": "code",
   "execution_count": null,
   "id": "3b80385b",
   "metadata": {},
   "outputs": [],
   "source": []
  },
  {
   "cell_type": "code",
   "execution_count": 95,
   "id": "82837200",
   "metadata": {},
   "outputs": [
    {
     "data": {
      "text/plain": [
       "'c:\\\\Users\\\\vlada\\\\OneDrive\\\\DESKTOP_IMP\\\\Desktop\\\\HAPPY'"
      ]
     },
     "execution_count": 95,
     "metadata": {},
     "output_type": "execute_result"
    }
   ],
   "source": [
    "import os\n",
    "os.getcwd()"
   ]
  },
  {
   "cell_type": "code",
   "execution_count": null,
   "id": "46eb5263",
   "metadata": {},
   "outputs": [],
   "source": [
    "# Experimenting\n",
    "dev_df[dev_df.isna().any(axis=1)].to_csv(\"output/missing_data_rows.csv\", index=False)\n"
   ]
  },
  {
   "cell_type": "code",
   "execution_count": 56,
   "id": "b71a5655",
   "metadata": {},
   "outputs": [
    {
     "name": "stdout",
     "output_type": "stream",
     "text": [
      "country\n",
      "Year\n",
      "military_expenditure\n",
      "access_to_electricity\n",
      "population_density\n",
      "government_expenditure_on_education\n",
      "government_health_expenditure\n",
      "rural_population\n",
      "renewvable_energy_consumption\n",
      "research_and_development_expenditure\n"
     ]
    }
   ],
   "source": [
    "for col in dev_df_trimmed.columns:\n",
    "    print(col)\n"
   ]
  },
  {
   "cell_type": "code",
   "execution_count": 57,
   "id": "3c67dda3",
   "metadata": {},
   "outputs": [
    {
     "name": "stdout",
     "output_type": "stream",
     "text": [
      "Index(['country', 'Regional Indicator', 'Year', 'Life Ladder',\n",
      "       'Log GDP Per Capita', 'Social Support',\n",
      "       'Healthy Life Expectancy At Birth', 'Freedom To Make Life Choices',\n",
      "       'Generosity', 'Perceptions Of Corruption', 'Positive Affect',\n",
      "       'Negative Affect', 'Confidence In National Government'],\n",
      "      dtype='object')\n"
     ]
    }
   ],
   "source": [
    "print(happiness_df.columns)"
   ]
  },
  {
   "cell_type": "code",
   "execution_count": 46,
   "id": "db647972",
   "metadata": {},
   "outputs": [
    {
     "name": "stdout",
     "output_type": "stream",
     "text": [
      "country\n",
      "Regional Indicator\n",
      "Year\n",
      "Life Ladder\n",
      "Log GDP Per Capita\n",
      "Social Support\n",
      "Healthy Life Expectancy At Birth\n",
      "Freedom To Make Life Choices\n",
      "Generosity\n",
      "Perceptions Of Corruption\n",
      "Positive Affect\n",
      "Negative Affect\n",
      "Confidence In National Government\n"
     ]
    }
   ],
   "source": [
    "for col in happiness_df.columns:\n",
    "    print(col)\n"
   ]
  },
  {
   "cell_type": "code",
   "execution_count": null,
   "id": "587eca4a",
   "metadata": {},
   "outputs": [
    {
     "name": "stdout",
     "output_type": "stream",
     "text": [
      "=== Missing Data Summary for happiness_df_trimmed ===\n",
      "                                   missing_values data_type\n",
      "country                                         0    object\n",
      "Regional Indicator                            112    object\n",
      "Year                                            0     Int32\n",
      "Life Ladder                                     0   float64\n",
      "Log GDP Per Capita                             20   float64\n",
      "Social Support                                 13   float64\n",
      "Healthy Life Expectancy At Birth               54   float64\n",
      "Freedom To Make Life Choices                   33   float64\n",
      "Generosity                                     73   float64\n",
      "Perceptions Of Corruption                     116   float64\n",
      "Positive Affect                                24   float64\n",
      "Negative Affect                                16   float64\n",
      "Confidence In National Government             361   float64\n"
     ]
    }
   ],
   "source": [
    "# Calculating missing values and get data types\n",
    "missing_happy = happiness_df.isna().sum()\n",
    "dtypes_happy = happiness_df.dtypes\n",
    "summary_happy_0 = pd.DataFrame({\n",
    "    'missing_values': missing_happy,\n",
    "    'data_type': dtypes_happy\n",
    "})\n",
    "print(\"=== Missing Data Summary for happiness_df_trimmed ===\")\n",
    "print(summary_happy_0)"
   ]
  },
  {
   "cell_type": "code",
   "execution_count": 58,
   "id": "f1c42256",
   "metadata": {},
   "outputs": [],
   "source": [
    "happiness_df['Year'] = happiness_df['Year'].astype('Int32')\n"
   ]
  },
  {
   "cell_type": "code",
   "execution_count": 59,
   "id": "b7c98c27",
   "metadata": {},
   "outputs": [
    {
     "name": "stdout",
     "output_type": "stream",
     "text": [
      "Int32\n"
     ]
    }
   ],
   "source": [
    "print(happiness_df['Year'].dtype)"
   ]
  },
  {
   "cell_type": "code",
   "execution_count": 60,
   "id": "042f289c",
   "metadata": {},
   "outputs": [
    {
     "data": {
      "image/png": "[encoded data removed]",
      "text/plain": [
       "<Figure size 1200x800 with 1 Axes>"
      ]
     },
     "metadata": {},
     "output_type": "display_data"
    }
   ],
   "source": [
    "import matplotlib.pyplot as plt\n",
    "import seaborn as sns\n",
    "\n",
    "# Set up the plot size\n",
    "plt.figure(figsize=(12, 8))\n",
    "\n",
    "# Create the heatmap: yellow = missing, purple = present\n",
    "sns.heatmap(happiness_df.isna(), \n",
    "            cmap=\"viridis\", \n",
    "            cbar=False, \n",
    "            yticklabels=False)\n",
    "\n",
    "plt.title(\"Missing Data Heatmap for happiness_df\")\n",
    "plt.xlabel(\"Columns\")\n",
    "plt.ylabel(\"Rows\")\n",
    "plt.show()\n"
   ]
  },
  {
   "cell_type": "code",
   "execution_count": null,
   "id": "2172b363",
   "metadata": {},
   "outputs": [
    {
     "name": "stdout",
     "output_type": "stream",
     "text": [
      "Trimmed Happiness Data Sample:\n"
     ]
    },
    {
     "data": {
      "text/html": [
       "<div>\n",
       "<style scoped>\n",
       "    .dataframe tbody tr th:only-of-type {\n",
       "        vertical-align: middle;\n",
       "    }\n",
       "\n",
       "    .dataframe tbody tr th {\n",
       "        vertical-align: top;\n",
       "    }\n",
       "\n",
       "    .dataframe thead th {\n",
       "        text-align: right;\n",
       "    }\n",
       "</style>\n",
       "<table border=\"1\" class=\"dataframe\">\n",
       "  <thead>\n",
       "    <tr style=\"text-align: right;\">\n",
       "      <th></th>\n",
       "      <th>country</th>\n",
       "      <th>Year</th>\n",
       "      <th>Happiness_Score</th>\n",
       "      <th>Log_GDP_per_Capita</th>\n",
       "      <th>Generosity</th>\n",
       "    </tr>\n",
       "  </thead>\n",
       "  <tbody>\n",
       "    <tr>\n",
       "      <th>0</th>\n",
       "      <td>Afghanistan</td>\n",
       "      <td>2008</td>\n",
       "      <td>3.723590</td>\n",
       "      <td>7.350416</td>\n",
       "      <td>0.167652</td>\n",
       "    </tr>\n",
       "    <tr>\n",
       "      <th>1</th>\n",
       "      <td>Afghanistan</td>\n",
       "      <td>2009</td>\n",
       "      <td>4.401778</td>\n",
       "      <td>7.508646</td>\n",
       "      <td>0.190809</td>\n",
       "    </tr>\n",
       "    <tr>\n",
       "      <th>2</th>\n",
       "      <td>Afghanistan</td>\n",
       "      <td>2010</td>\n",
       "      <td>4.758381</td>\n",
       "      <td>7.613900</td>\n",
       "      <td>0.121316</td>\n",
       "    </tr>\n",
       "    <tr>\n",
       "      <th>3</th>\n",
       "      <td>Afghanistan</td>\n",
       "      <td>2011</td>\n",
       "      <td>3.831719</td>\n",
       "      <td>7.581259</td>\n",
       "      <td>0.163571</td>\n",
       "    </tr>\n",
       "    <tr>\n",
       "      <th>4</th>\n",
       "      <td>Afghanistan</td>\n",
       "      <td>2012</td>\n",
       "      <td>3.782938</td>\n",
       "      <td>7.660506</td>\n",
       "      <td>0.237588</td>\n",
       "    </tr>\n",
       "  </tbody>\n",
       "</table>\n",
       "</div>"
      ],
      "text/plain": [
       "       country  Year  Happiness_Score  Log_GDP_per_Capita  Generosity\n",
       "0  Afghanistan  2008         3.723590            7.350416    0.167652\n",
       "1  Afghanistan  2009         4.401778            7.508646    0.190809\n",
       "2  Afghanistan  2010         4.758381            7.613900    0.121316\n",
       "3  Afghanistan  2011         3.831719            7.581259    0.163571\n",
       "4  Afghanistan  2012         3.782938            7.660506    0.237588"
      ]
     },
     "metadata": {},
     "output_type": "display_data"
    }
   ],
   "source": [
    "# RENAMING COLUMNS\n",
    "happiness_df.rename(columns={\n",
    "    'Life Ladder': 'Happiness_Score',\n",
    "    'Log GDP Per Capita': 'Log_GDP_per_Capita',\n",
    "    'Social Support': 'Social_Support'\n",
    "}, inplace=True)\n",
    "\n",
    "happiness_df_trimmed = happiness_df[['country', 'Year', 'Happiness_Score', 'Log_GDP_per_Capita','Generosity']]\n",
    "\n",
    "print(\"Trimmed Happiness Data Sample:\")\n",
    "display(happiness_df_trimmed.head())\n"
   ]
  },
  {
   "cell_type": "code",
   "execution_count": 66,
   "id": "c5bf3af2",
   "metadata": {},
   "outputs": [
    {
     "name": "stdout",
     "output_type": "stream",
     "text": [
      "Number of columns in Development Indicators dataset: 50\n"
     ]
    }
   ],
   "source": [
    "print(\"Number of columns in Development Indicators dataset:\", len(dev_df.columns))"
   ]
  },
  {
   "cell_type": "code",
   "execution_count": 62,
   "id": "86335d47",
   "metadata": {},
   "outputs": [
    {
     "name": "stdout",
     "output_type": "stream",
     "text": [
      "Unique countries in World Bank data: 274\n",
      "Unique countries in Happiness data: 165\n"
     ]
    }
   ],
   "source": [
    "print(\"Unique countries in World Bank data:\", dev_df_trimmed['country'].nunique())\n",
    "print(\"Unique countries in Happiness data:\", happiness_df['country'].nunique())"
   ]
  },
  {
   "cell_type": "code",
   "execution_count": null,
   "id": "860432dc",
   "metadata": {},
   "outputs": [
    {
     "name": "stdout",
     "output_type": "stream",
     "text": [
      "Unique countries in World Bank data (2005-2022): 274\n"
     ]
    }
   ],
   "source": [
    "# After filtering by year, checking unique countries again\n",
    "print(\"Unique countries in World Bank data (2005-2022):\", dev_df_trimmed['country'].nunique())\n"
   ]
  },
  {
   "cell_type": "code",
   "execution_count": null,
   "id": "c5426b78",
   "metadata": {},
   "outputs": [
    {
     "name": "stdout",
     "output_type": "stream",
     "text": [
      "Countries only in World Bank data: {'Papua New Guinea', 'European Union', 'Andorra', 'Europe & Central Asia (IDA & IBRD)', 'Arab World', 'Viet Nam', 'Aruba', 'Latin America & the Caribbean (IDA & IBRD countries)', 'Sub-Saharan Africa (IDA & IBRD)', 'Egypt, Arab Rep.', 'Yemen, Rep.', 'Gibraltar', 'Middle East & North Africa', 'IDA blend', 'Central Europe and the Baltics', 'Equatorial Guinea', \"Korea, Dem. People's Rep.\", 'Vanuatu', 'Bermuda', 'Monaco', 'Russian Federation', 'Cabo Verde', 'Middle income', 'North America', 'Macao SAR, China', 'Heavily indebted poor countries (HIPC)', 'French Polynesia', 'Post-demographic dividend', 'East Asia & Pacific (excluding high income)', 'Late-demographic dividend', 'Small states', 'IDA only', 'Middle East & North Africa (IDA & IBRD countries)', 'IDA & IBRD total', 'Tuvalu', 'Congo, Dem. Rep.', 'Seychelles', 'Caribbean small states', 'East Asia & Pacific (IDA & IBRD)', 'Virgin Islands (U.S.)', 'Low income', 'Middle East & North Africa (IDA & IBRD)', 'Liechtenstein', 'World', 'Timor-Leste', 'West Bank and Gaza', 'Other small states', 'Early-demographic dividend', 'Fragile and conflict affected situations', 'Tonga', 'Guinea-Bissau', 'Hong Kong SAR, China', 'South Asia', 'St. Martin (French part)', 'Puerto Rico', 'New Caledonia', 'American Samoa', 'British Virgin Islands', 'Dominica', 'Europe & Central Asia (IDA & IBRD countries)', 'Bahamas, The', 'Turkey', 'Greenland', 'Africa Eastern and Southern', 'Pacific island small states', 'Syrian Arab Republic', 'Curacao', 'Brunei Darussalam', 'Low & middle income', 'St. Kitts and Nevis', 'Pre-demographic dividend', 'Latin America & Caribbean (excluding high income)', 'Iran, Islamic Rep.', \"Cote d'Ivoire\", 'Guam', 'St. Vincent and the Grenadines', 'Faroe Islands', 'Sint Maarten (Dutch part)', 'OECD members', 'Eritrea', 'Fiji', 'Micronesia, Fed. Sts.', 'Slovak Republic', 'Sub-Saharan Africa', 'Barbados', 'Cayman Islands', 'Latin America & Caribbean', 'Solomon Islands', 'Congo, Rep.', 'Gambia, The', 'Nauru', 'Sub-Saharan Africa (excluding high income)', 'Grenada', 'San Marino', 'East Asia & Pacific', 'Least developed countries: UN classification', 'Africa Western and Central', 'Not classified', 'Palau', 'Lower middle income', 'East Asia & Pacific (IDA & IBRD countries)', 'St. Lucia', 'High income', 'South Asia (IDA & IBRD)', 'IBRD only', 'Middle East & North Africa (excluding high income)', 'Channel Islands', 'Antigua and Barbuda', 'Euro area', 'Northern Mariana Islands', 'Europe & Central Asia (excluding high income)', 'Europe & Central Asia', 'Kiribati', 'Upper middle income', 'Venezuela, RB', 'Sao Tome and Principe', 'Czech Republic', 'Korea, Rep.', 'Sub-Saharan Africa (IDA & IBRD countries)', 'Turks and Caicos Islands', 'Marshall Islands', 'IDA total', 'Kyrgyz Republic', 'Lao PDR', 'Latin America & Caribbean (IDA & IBRD)', 'Samoa', 'Isle of Man'}\n",
      "Countries only in Happiness data: {'Hong Kong S.A.R. of China', 'Egypt', 'Congo (Kinshasa)', 'Yemen', 'Somaliland region', 'Gambia', 'Laos', 'Taiwan Province of China', 'South Korea', 'Congo (Brazzaville)', 'Venezuela', 'Iran', 'Ivory Coast', 'Russia', 'State of Palestine', 'Kyrgyzstan', 'Syria', 'Slovakia'}\n"
     ]
    }
   ],
   "source": [
    "# Getting unique countries from both datasets\n",
    "countries_dev = set(dev_df_trimmed['country'].unique())\n",
    "countries_happy = set(happiness_df_trimmed['country'].unique())\n",
    "\n",
    "# Showing  differences\n",
    "only_in_dev = countries_dev - countries_happy\n",
    "only_in_happy = countries_happy - countries_dev\n",
    "\n",
    "print(\"Countries only in World Bank data:\", only_in_dev)\n",
    "print(\"Countries only in Happiness data:\", only_in_happy)\n"
   ]
  },
  {
   "cell_type": "code",
   "execution_count": 64,
   "id": "7a2708fb",
   "metadata": {},
   "outputs": [],
   "source": [
    "country_name_map = {\n",
    "    'Russia': 'Russian Federation',\n",
    "    'Gambia': 'Gambia, The',\n",
    "    'Vietnam': 'Viet Nam',\n",
    "    'Iran': 'Iran, Islamic Rep.',\n",
    "    'Egypt': 'Egypt, Arab Rep.',\n",
    "    'South Korea': 'Korea, Rep.',\n",
    "    'Ivory Coast': \"Cote d'Ivoire\",\n",
    "    'Congo (Kinshasa)': 'Congo, Dem. Rep.',\n",
    "    'Congo (Brazzaville)': 'Congo, Rep.',\n",
    "    'Slovakia': 'Slovak Republic',\n",
    "    'Venezuela': 'Venezuela, RB',\n",
    "    'Hong Kong S.A.R. of China': 'Hong Kong SAR, China',\n",
    "    'Yemen': 'Yemen, Rep.',\n",
    "    'State of Palestine': 'West Bank and Gaza',\n",
    "    'Laos': 'Lao PDR',\n",
    "    'Kyrgyzstan': 'Kyrgyz Republic',\n",
    "    \n",
    "    # Entries to drop (no match in World Bank data)\n",
    "    'Kosovo': None,\n",
    "    'Taiwan Province of China': None,\n",
    "    'Somaliland region': None\n",
    "}\n"
   ]
  },
  {
   "cell_type": "code",
   "execution_count": 65,
   "id": "3b12dc53",
   "metadata": {},
   "outputs": [
    {
     "name": "stderr",
     "output_type": "stream",
     "text": [
      "C:\\Users\\vlada\\AppData\\Local\\Temp\\ipykernel_5208\\360990918.py:1: SettingWithCopyWarning: \n",
      "A value is trying to be set on a copy of a slice from a DataFrame.\n",
      "Try using .loc[row_indexer,col_indexer] = value instead\n",
      "\n",
      "See the caveats in the documentation: https://pandas.pydata.org/pandas-docs/stable/user_guide/indexing.html#returning-a-view-versus-a-copy\n",
      "  happiness_df_trimmed['country'] = happiness_df_trimmed['country'].replace(country_name_map)\n"
     ]
    }
   ],
   "source": [
    "happiness_df_trimmed['country'] = happiness_df_trimmed['country'].replace(country_name_map)\n"
   ]
  },
  {
   "cell_type": "code",
   "execution_count": 66,
   "id": "84cf6f75",
   "metadata": {},
   "outputs": [],
   "source": [
    "happiness_df_trimmed = happiness_df_trimmed.dropna(subset=['country'])\n"
   ]
  },
  {
   "cell_type": "code",
   "execution_count": 67,
   "id": "b7324c16",
   "metadata": {},
   "outputs": [
    {
     "name": "stdout",
     "output_type": "stream",
     "text": [
      "Still only in World Bank data: ['Africa Eastern and Southern', 'Africa Western and Central', 'American Samoa', 'Andorra', 'Antigua and Barbuda', 'Arab World', 'Aruba', 'Bahamas, The', 'Barbados', 'Bermuda', 'British Virgin Islands', 'Brunei Darussalam', 'Cabo Verde', 'Caribbean small states', 'Cayman Islands', 'Central Europe and the Baltics', 'Channel Islands', 'Curacao', 'Czech Republic', 'Dominica', 'Early-demographic dividend', 'East Asia & Pacific', 'East Asia & Pacific (IDA & IBRD countries)', 'East Asia & Pacific (IDA & IBRD)', 'East Asia & Pacific (excluding high income)', 'Equatorial Guinea', 'Eritrea', 'Euro area', 'Europe & Central Asia', 'Europe & Central Asia (IDA & IBRD countries)', 'Europe & Central Asia (IDA & IBRD)', 'Europe & Central Asia (excluding high income)', 'European Union', 'Faroe Islands', 'Fiji', 'Fragile and conflict affected situations', 'French Polynesia', 'Gibraltar', 'Greenland', 'Grenada', 'Guam', 'Guinea-Bissau', 'Heavily indebted poor countries (HIPC)', 'High income', 'IBRD only', 'IDA & IBRD total', 'IDA blend', 'IDA only', 'IDA total', 'Isle of Man', 'Kiribati', \"Korea, Dem. People's Rep.\", 'Kosovo', 'Late-demographic dividend', 'Latin America & Caribbean', 'Latin America & Caribbean (IDA & IBRD)', 'Latin America & Caribbean (excluding high income)', 'Latin America & the Caribbean (IDA & IBRD countries)', 'Least developed countries: UN classification', 'Liechtenstein', 'Low & middle income', 'Low income', 'Lower middle income', 'Macao SAR, China', 'Marshall Islands', 'Micronesia, Fed. Sts.', 'Middle East & North Africa', 'Middle East & North Africa (IDA & IBRD countries)', 'Middle East & North Africa (IDA & IBRD)', 'Middle East & North Africa (excluding high income)', 'Middle income', 'Monaco', 'Nauru', 'New Caledonia', 'North America', 'Northern Mariana Islands', 'Not classified', 'OECD members', 'Other small states', 'Pacific island small states', 'Palau', 'Papua New Guinea', 'Post-demographic dividend', 'Pre-demographic dividend', 'Puerto Rico', 'Samoa', 'San Marino', 'Sao Tome and Principe', 'Seychelles', 'Sint Maarten (Dutch part)', 'Small states', 'Solomon Islands', 'South Asia', 'South Asia (IDA & IBRD)', 'St. Kitts and Nevis', 'St. Lucia', 'St. Martin (French part)', 'St. Vincent and the Grenadines', 'Sub-Saharan Africa', 'Sub-Saharan Africa (IDA & IBRD countries)', 'Sub-Saharan Africa (IDA & IBRD)', 'Sub-Saharan Africa (excluding high income)', 'Syrian Arab Republic', 'Timor-Leste', 'Tonga', 'Turkey', 'Turks and Caicos Islands', 'Tuvalu', 'Upper middle income', 'Vanuatu', 'Vietnam', 'Virgin Islands (U.S.)', 'World']\n",
      "Still only in Happiness data: ['Syria']\n"
     ]
    }
   ],
   "source": [
    "countries_dev = set(dev_df_trimmed['country'].unique())\n",
    "countries_happy = set(happiness_df_trimmed['country'].unique())\n",
    "\n",
    "only_in_dev = countries_dev - countries_happy\n",
    "only_in_happy = countries_happy - countries_dev\n",
    "\n",
    "print(\"Still only in World Bank data:\", sorted(only_in_dev))\n",
    "print(\"Still only in Happiness data:\", sorted(only_in_happy))\n"
   ]
  },
  {
   "cell_type": "code",
   "execution_count": 68,
   "id": "2d644fcb",
   "metadata": {},
   "outputs": [],
   "source": [
    "country_name_map = {\n",
    "    'Russia': 'Russian Federation',\n",
    "    'Gambia': 'Gambia, The',\n",
    "    'Vietnam': 'Viet Nam',\n",
    "    'Iran': 'Iran, Islamic Rep.',\n",
    "    'Egypt': 'Egypt, Arab Rep.',\n",
    "    'South Korea': 'Korea, Rep.',\n",
    "    'Ivory Coast': \"Cote d'Ivoire\",\n",
    "    'Congo (Kinshasa)': 'Congo, Dem. Rep.',\n",
    "    'Congo (Brazzaville)': 'Congo, Rep.',\n",
    "    'Slovakia': 'Slovak Republic',\n",
    "    'Venezuela': 'Venezuela, RB',\n",
    "    'Hong Kong S.A.R. of China': 'Hong Kong SAR, China',\n",
    "    'Yemen': 'Yemen, Rep.',\n",
    "    'State of Palestine': 'West Bank and Gaza',\n",
    "    'Laos': 'Lao PDR',\n",
    "    'Kyrgyzstan': 'Kyrgyz Republic',\n",
    "    'Syria': 'Syrian Arab Republic',\n",
    "    \n",
    "    # Drop/ignore (not in World Bank data)\n",
    "    'Kosovo': None,\n",
    "    'Taiwan Province of China': None,\n",
    "    'Somaliland region': None\n",
    "}\n"
   ]
  },
  {
   "cell_type": "code",
   "execution_count": null,
   "id": "58cbf700",
   "metadata": {},
   "outputs": [],
   "source": [
    "# Update happiness country names again\n",
    "happiness_df_trimmed['country'] = happiness_df_trimmed['country'].replace(country_name_map)\n",
    "happiness_df_trimmed = happiness_df_trimmed.dropna(subset=['country'])\n"
   ]
  },
  {
   "cell_type": "code",
   "execution_count": 70,
   "id": "4cec5d44",
   "metadata": {},
   "outputs": [
    {
     "name": "stdout",
     "output_type": "stream",
     "text": [
      "Still only in World Bank data: ['Africa Eastern and Southern', 'Africa Western and Central', 'American Samoa', 'Andorra', 'Antigua and Barbuda', 'Arab World', 'Aruba', 'Bahamas, The', 'Barbados', 'Bermuda', 'British Virgin Islands', 'Brunei Darussalam', 'Cabo Verde', 'Caribbean small states', 'Cayman Islands', 'Central Europe and the Baltics', 'Channel Islands', 'Curacao', 'Czech Republic', 'Dominica', 'Early-demographic dividend', 'East Asia & Pacific', 'East Asia & Pacific (IDA & IBRD countries)', 'East Asia & Pacific (IDA & IBRD)', 'East Asia & Pacific (excluding high income)', 'Equatorial Guinea', 'Eritrea', 'Euro area', 'Europe & Central Asia', 'Europe & Central Asia (IDA & IBRD countries)', 'Europe & Central Asia (IDA & IBRD)', 'Europe & Central Asia (excluding high income)', 'European Union', 'Faroe Islands', 'Fiji', 'Fragile and conflict affected situations', 'French Polynesia', 'Gibraltar', 'Greenland', 'Grenada', 'Guam', 'Guinea-Bissau', 'Heavily indebted poor countries (HIPC)', 'High income', 'IBRD only', 'IDA & IBRD total', 'IDA blend', 'IDA only', 'IDA total', 'Isle of Man', 'Kiribati', \"Korea, Dem. People's Rep.\", 'Kosovo', 'Late-demographic dividend', 'Latin America & Caribbean', 'Latin America & Caribbean (IDA & IBRD)', 'Latin America & Caribbean (excluding high income)', 'Latin America & the Caribbean (IDA & IBRD countries)', 'Least developed countries: UN classification', 'Liechtenstein', 'Low & middle income', 'Low income', 'Lower middle income', 'Macao SAR, China', 'Marshall Islands', 'Micronesia, Fed. Sts.', 'Middle East & North Africa', 'Middle East & North Africa (IDA & IBRD countries)', 'Middle East & North Africa (IDA & IBRD)', 'Middle East & North Africa (excluding high income)', 'Middle income', 'Monaco', 'Nauru', 'New Caledonia', 'North America', 'Northern Mariana Islands', 'Not classified', 'OECD members', 'Other small states', 'Pacific island small states', 'Palau', 'Papua New Guinea', 'Post-demographic dividend', 'Pre-demographic dividend', 'Puerto Rico', 'Samoa', 'San Marino', 'Sao Tome and Principe', 'Seychelles', 'Sint Maarten (Dutch part)', 'Small states', 'Solomon Islands', 'South Asia', 'South Asia (IDA & IBRD)', 'St. Kitts and Nevis', 'St. Lucia', 'St. Martin (French part)', 'St. Vincent and the Grenadines', 'Sub-Saharan Africa', 'Sub-Saharan Africa (IDA & IBRD countries)', 'Sub-Saharan Africa (IDA & IBRD)', 'Sub-Saharan Africa (excluding high income)', 'Timor-Leste', 'Tonga', 'Turkey', 'Turks and Caicos Islands', 'Tuvalu', 'Upper middle income', 'Vanuatu', 'Vietnam', 'Virgin Islands (U.S.)', 'World']\n",
      "Still only in Happiness data: []\n"
     ]
    }
   ],
   "source": [
    "# Final mismatch check\n",
    "countries_dev = set(dev_df_trimmed['country'].unique())\n",
    "countries_happy = set(happiness_df_trimmed['country'].unique())\n",
    "\n",
    "only_in_dev = countries_dev - countries_happy\n",
    "only_in_happy = countries_happy - countries_dev\n",
    "\n",
    "print(\"Still only in World Bank data:\", sorted(only_in_dev))\n",
    "print(\"Still only in Happiness data:\", sorted(only_in_happy))\n"
   ]
  },
  {
   "cell_type": "code",
   "execution_count": 71,
   "id": "0fec21e7",
   "metadata": {},
   "outputs": [
    {
     "name": "stdout",
     "output_type": "stream",
     "text": [
      "In World Bank data: True\n",
      "In Happiness data: True\n"
     ]
    }
   ],
   "source": [
    "print(\"In World Bank data:\", 'Iraq' in dev_df_trimmed['country'].unique())\n",
    "print(\"In Happiness data:\", 'Iraq' in happiness_df_trimmed['country'].unique())\n"
   ]
  },
  {
   "cell_type": "code",
   "execution_count": 72,
   "id": "adb46a1a",
   "metadata": {},
   "outputs": [
    {
     "name": "stdout",
     "output_type": "stream",
     "text": [
      "South Africa: In dev data? True, In happiness data? True\n",
      "Botswana: In dev data? True, In happiness data? True\n"
     ]
    }
   ],
   "source": [
    "countries_to_check = ['South Africa', 'Botswana']\n",
    "\n",
    "for country in countries_to_check:\n",
    "    in_dev = country in dev_df_trimmed['country'].unique()\n",
    "    in_happy = country in happiness_df_trimmed['country'].unique()\n",
    "    print(f\"{country}: In dev data? {in_dev}, In happiness data? {in_happy}\")\n"
   ]
  },
  {
   "cell_type": "code",
   "execution_count": 76,
   "id": "30910db6",
   "metadata": {},
   "outputs": [
    {
     "name": "stdout",
     "output_type": "stream",
     "text": [
      "Samoa: In dev data? True, In happiness data? False\n",
      "Tonga: In dev data? True, In happiness data? False\n",
      "Vanuatu: In dev data? True, In happiness data? False\n",
      "Solomon Islands: In dev data? True, In happiness data? False\n",
      "Micronesia, Fed. Sts.: In dev data? True, In happiness data? False\n"
     ]
    }
   ],
   "source": [
    "oceania_candidates = [\n",
    "    'Samoa', 'Tonga', 'Vanuatu', 'Solomon Islands', 'Micronesia, Fed. Sts.'\n",
    "]\n",
    "\n",
    "for country in oceania_candidates:\n",
    "    in_dev = country in dev_df_trimmed['country'].unique()\n",
    "    in_happy = country in happiness_df_trimmed['country'].unique()\n",
    "    print(f\"{country}: In dev data? {in_dev}, In happiness data? {in_happy}\")\n"
   ]
  },
  {
   "cell_type": "code",
   "execution_count": null,
   "id": "88619b51",
   "metadata": {},
   "outputs": [],
   "source": []
  },
  {
   "cell_type": "code",
   "execution_count": 73,
   "id": "d3bac767",
   "metadata": {},
   "outputs": [
    {
     "name": "stdout",
     "output_type": "stream",
     "text": [
      "Cuba: In dev data? True, In happiness data? True\n"
     ]
    }
   ],
   "source": [
    "country = 'Cuba'\n",
    "\n",
    "in_dev = country in dev_df_trimmed['country'].unique()\n",
    "in_happy = country in happiness_df_trimmed['country'].unique()\n",
    "\n",
    "print(f\"{country}: In dev data? {in_dev}, In happiness data? {in_happy}\")"
   ]
  },
  {
   "cell_type": "code",
   "execution_count": 74,
   "id": "61d6d705",
   "metadata": {},
   "outputs": [],
   "source": [
    "selected_countries = [\n",
    "    # Africa\n",
    "    'Nigeria', 'South Africa', 'Kenya', 'Egypt, Arab Rep.', 'Ghana', 'Ethiopia','Botswana',\n",
    "\n",
    "    # Asia\n",
    "    'China', 'India', 'Japan', 'Korea, Rep.', 'Indonesia', 'Viet Nam',\n",
    "    'Bangladesh', 'Pakistan',\n",
    "\n",
    "    # North America\n",
    "    'United States of America', 'Canada', 'Mexico', 'Cuba'\n",
    "\n",
    "\n",
    "    # South America\n",
    "    'Chile', 'Uruguay', 'Colombia', 'Argentina', 'Brazil', 'Peru'\n",
    "\n",
    "\n",
    "    # Europe\n",
    "    'Germany', 'France', 'United Kingdom', 'Italy', 'Spain', 'Russian Federation',\n",
    "    'Poland', 'Netherlands', 'Ukraine',\n",
    "\n",
    "    \n",
    "    # Middle East\n",
    "    'Iran, Islamic Rep.', 'Saudi Arabia', 'Israel', 'United Arab Emirates','Iraq'\n",
    "]\n"
   ]
  },
  {
   "cell_type": "code",
   "execution_count": null,
   "id": "af93371c",
   "metadata": {},
   "outputs": [],
   "source": [
    "# Filter World Bank data with new variable name\n",
    "dev_df_filtered_1 = dev_df_trimmed[dev_df_trimmed['country'].isin(selected_countries)]\n",
    "happiness_df_filtered_1 = happiness_df_trimmed[happiness_df_trimmed['country'].isin(selected_countries)]\n"
   ]
  },
  {
   "cell_type": "code",
   "execution_count": 76,
   "id": "b9d7d52b",
   "metadata": {},
   "outputs": [
    {
     "name": "stdout",
     "output_type": "stream",
     "text": [
      "Filtered World Bank countries (dev_df_filtered_1): ['Argentina' 'Bangladesh' 'Botswana' 'Brazil' 'Canada' 'China' 'Colombia'\n",
      " 'Egypt, Arab Rep.' 'Ethiopia' 'France' 'Ghana' 'India' 'Indonesia'\n",
      " 'Iran, Islamic Rep.' 'Iraq' 'Israel' 'Italy' 'Japan' 'Kenya'\n",
      " 'Korea, Rep.' 'Mexico' 'Netherlands' 'Nigeria' 'Pakistan' 'Poland'\n",
      " 'Russian Federation' 'Saudi Arabia' 'South Africa' 'Spain' 'Ukraine'\n",
      " 'United Arab Emirates' 'United Kingdom' 'Uruguay' 'Viet Nam']\n",
      "Filtered Happiness countries (happiness_df_filtered_1): ['Argentina' 'Bangladesh' 'Botswana' 'Brazil' 'Canada' 'China' 'Colombia'\n",
      " 'Egypt, Arab Rep.' 'Ethiopia' 'France' 'Ghana' 'India' 'Indonesia'\n",
      " 'Iran, Islamic Rep.' 'Iraq' 'Israel' 'Italy' 'Japan' 'Kenya' 'Mexico'\n",
      " 'Netherlands' 'Nigeria' 'Pakistan' 'Poland' 'Russian Federation'\n",
      " 'Saudi Arabia' 'South Africa' 'Korea, Rep.' 'Spain' 'Ukraine'\n",
      " 'United Arab Emirates' 'United Kingdom' 'Uruguay' 'Viet Nam']\n"
     ]
    }
   ],
   "source": [
    "print(\"Filtered World Bank countries (dev_df_filtered_1):\", dev_df_filtered_1['country'].unique())\n",
    "print(\"Filtered Happiness countries (happiness_df_filtered_1):\", happiness_df_filtered_1['country'].unique())\n"
   ]
  },
  {
   "cell_type": "code",
   "execution_count": 77,
   "id": "ccae4df2",
   "metadata": {},
   "outputs": [
    {
     "name": "stdout",
     "output_type": "stream",
     "text": [
      "Merged dataset shape: (551, 13)\n",
      "Merged dataset preview:\n",
      "     country  Year  military_expenditure  access_to_electricity  \\\n",
      "0  Argentina  2006              0.788234              96.964409   \n",
      "1  Argentina  2007              0.792548              97.224396   \n",
      "2  Argentina  2008              0.762756              97.501602   \n",
      "3  Argentina  2009              0.886509              97.792206   \n",
      "4  Argentina  2010              0.814878              98.820000   \n",
      "\n",
      "   population_density  government_expenditure_on_education  \\\n",
      "0           14.425036                              4.12821   \n",
      "1           14.570927                              4.46260   \n",
      "2           14.716233                              4.84441   \n",
      "3           14.866257                              5.53105   \n",
      "4           14.904302                              5.01971   \n",
      "\n",
      "   government_health_expenditure  rural_population  \\\n",
      "0                       4.018989         3868731.0   \n",
      "1                       4.254916         3841665.0   \n",
      "2                       4.508547         3813926.0   \n",
      "3                       5.669828         3787305.0   \n",
      "4                       5.568343         3732551.0   \n",
      "\n",
      "   renewvable_energy_consumption  research_and_development_expenditure  \\\n",
      "0                           9.18                               0.45216   \n",
      "1                           7.72                               0.46007   \n",
      "2                           7.65                               0.47055   \n",
      "3                           8.59                               0.58398   \n",
      "4                           8.79                               0.56104   \n",
      "\n",
      "   Happiness_Score  Log_GDP_per_Capita  Generosity  \n",
      "0         6.312925            9.936886   -0.159916  \n",
      "1         6.073158           10.013071   -0.144077  \n",
      "2         5.961034           10.042918   -0.134858  \n",
      "3         6.424133            9.971766   -0.132990  \n",
      "4         6.441067           10.065660   -0.129371  \n"
     ]
    }
   ],
   "source": [
    "# Merge on 'country' (and optionally 'year' if both are time-based)\n",
    "merged_df = pd.merge(\n",
    "    dev_df_filtered_1,\n",
    "    happiness_df_filtered_1,\n",
    "    on=['country', 'Year'],  # use only 'country' if no year column in both\n",
    "    how='inner'\n",
    ")\n",
    "\n",
    "print(\"Merged dataset shape:\", merged_df.shape)\n",
    "print(\"Merged dataset preview:\")\n",
    "print(merged_df.head())\n"
   ]
  },
  {
   "cell_type": "code",
   "execution_count": 82,
   "id": "3a8ff0c8",
   "metadata": {},
   "outputs": [
    {
     "name": "stdout",
     "output_type": "stream",
     "text": [
      "<class 'pandas.core.frame.DataFrame'>\n",
      "RangeIndex: 551 entries, 0 to 550\n",
      "Data columns (total 11 columns):\n",
      " #   Column                               Non-Null Count  Dtype  \n",
      "---  ------                               --------------  -----  \n",
      " 0   country                              551 non-null    object \n",
      " 1   Year                                 551 non-null    Int32  \n",
      " 2   military_expenditure                 539 non-null    float64\n",
      " 3   access_to_electricity                522 non-null    float64\n",
      " 4   population_density                   522 non-null    float64\n",
      " 5   government_expenditure_on_education  435 non-null    float64\n",
      " 6   government_health_expenditure        489 non-null    float64\n",
      " 7   rural_population                     551 non-null    float64\n",
      " 8   Happiness_Score                      551 non-null    float64\n",
      " 9   Log_GDP_per_Capita                   551 non-null    float64\n",
      " 10  Generosity                           527 non-null    float64\n",
      "dtypes: Int32(1), float64(9), object(1)\n",
      "memory usage: 45.9+ KB\n",
      "None\n"
     ]
    }
   ],
   "source": [
    "print(merged_df.info())\n"
   ]
  },
  {
   "cell_type": "code",
   "execution_count": 78,
   "id": "da024533",
   "metadata": {},
   "outputs": [
    {
     "name": "stdout",
     "output_type": "stream",
     "text": [
      "country                                   0\n",
      "Year                                      0\n",
      "military_expenditure                     12\n",
      "access_to_electricity                    29\n",
      "population_density                       29\n",
      "government_expenditure_on_education     116\n",
      "government_health_expenditure            62\n",
      "rural_population                          0\n",
      "renewvable_energy_consumption            61\n",
      "research_and_development_expenditure    157\n",
      "Happiness_Score                           0\n",
      "Log_GDP_per_Capita                        0\n",
      "Generosity                               24\n",
      "dtype: int64\n"
     ]
    }
   ],
   "source": [
    "print(merged_df.isnull().sum())\n"
   ]
  },
  {
   "cell_type": "code",
   "execution_count": null,
   "id": "be052fcd",
   "metadata": {},
   "outputs": [
    {
     "name": "stdout",
     "output_type": "stream",
     "text": [
      "2006: ['Botswana', 'China', 'Indonesia', 'Korea, Rep.', 'Nigeria', 'United Arab Emirates', 'Viet Nam']\n",
      "2007: ['India', 'Kenya', 'Korea, Rep.', 'Nigeria', 'Russian Federation', 'Saudi Arabia', 'Uruguay', 'Viet Nam']\n",
      "2008: ['Botswana', 'India', 'Iraq', 'Kenya', 'Korea, Rep.', 'Nigeria', 'Uruguay']\n",
      "2009: ['Iraq', 'Nigeria', 'Saudi Arabia', 'United Arab Emirates', 'Uruguay']\n",
      "2010: ['Bangladesh', 'Botswana', 'Iraq', 'Nigeria', 'Saudi Arabia', 'Ukraine', 'United Arab Emirates', 'Uruguay']\n",
      "2011: ['Botswana', 'Iraq', 'Korea, Rep.', 'Saudi Arabia', 'United Arab Emirates']\n",
      "2012: ['Iraq', 'Korea, Rep.', 'Nigeria', 'Saudi Arabia', 'United Arab Emirates']\n",
      "2013: ['Iraq', 'Korea, Rep.', 'Nigeria', 'Saudi Arabia', 'United Arab Emirates']\n",
      "2014: ['Iraq', 'Korea, Rep.', 'Saudi Arabia', 'United Arab Emirates']\n",
      "2015: ['Iraq', 'Nigeria', 'Saudi Arabia', 'United Arab Emirates']\n",
      "2016: ['Egypt, Arab Rep.', 'India', 'Iraq', 'Nigeria', 'Saudi Arabia', 'United Arab Emirates']\n",
      "2017: ['Egypt, Arab Rep.', 'Iraq', 'Nigeria', 'Saudi Arabia', 'United Arab Emirates']\n",
      "2018: ['Egypt, Arab Rep.', 'India', 'Iraq', 'Nigeria', 'Saudi Arabia', 'United Arab Emirates']\n",
      "2019: ['Egypt, Arab Rep.', 'India', 'Mexico', 'Nigeria', 'Saudi Arabia']\n",
      "2020: ['Egypt, Arab Rep.', 'Iraq', 'Nigeria', 'Saudi Arabia']\n",
      "2021: ['Brazil', 'Colombia', 'Egypt, Arab Rep.', 'Iran, Islamic Rep.', 'Iraq', 'Korea, Rep.', 'Mexico', 'Nigeria', 'Russian Federation', 'Saudi Arabia']\n",
      "2022: ['Argentina', 'Botswana', 'Brazil', 'Colombia', 'Egypt, Arab Rep.', 'France', 'India', 'Indonesia', 'Iran, Islamic Rep.', 'Israel', 'Italy', 'Japan', 'Korea, Rep.', 'Mexico', 'Netherlands', 'Poland', 'Russian Federation', 'Saudi Arabia', 'Spain', 'Ukraine', 'United Arab Emirates', 'United Kingdom']\n"
     ]
    }
   ],
   "source": [
    "# Filter rows where government_expenditure_on_education is missing\n",
    "missing_education = merged_df[merged_df['government_expenditure_on_education'].isna()]\n",
    "\n",
    "# Group by year and get list of countries with missing data for that year\n",
    "missing_by_year = (\n",
    "    missing_education\n",
    "    .groupby('Year')['country']\n",
    "    .apply(lambda x: list(x.unique()))\n",
    "    .reset_index()\n",
    "    .rename(columns={'country': 'Countries Missing Education Spending'})\n",
    ")\n",
    "\n",
    "for _, row in missing_by_year.iterrows():\n",
    "    print(f\"{row['Year']}: {row['Countries Missing Education Spending']}\")\n"
   ]
  },
  {
   "cell_type": "code",
   "execution_count": null,
   "id": "b44800d2",
   "metadata": {},
   "outputs": [],
   "source": []
  },
  {
   "cell_type": "code",
   "execution_count": null,
   "id": "ce507a51",
   "metadata": {},
   "outputs": [
    {
     "name": "stdout",
     "output_type": "stream",
     "text": [
      "Cleaned dev_df (Year and Country columns uppercase, country values original case):\n"
     ]
    },
    {
     "data": {
      "text/html": [
       "<div>\n",
       "<style scoped>\n",
       "    .dataframe tbody tr th:only-of-type {\n",
       "        vertical-align: middle;\n",
       "    }\n",
       "\n",
       "    .dataframe tbody tr th {\n",
       "        vertical-align: top;\n",
       "    }\n",
       "\n",
       "    .dataframe thead th {\n",
       "        text-align: right;\n",
       "    }\n",
       "</style>\n",
       "<table border=\"1\" class=\"dataframe\">\n",
       "  <thead>\n",
       "    <tr style=\"text-align: right;\">\n",
       "      <th></th>\n",
       "      <th>Country</th>\n",
       "      <th>Year</th>\n",
       "      <th>agricultural_landpercent</th>\n",
       "      <th>forest_landpercent</th>\n",
       "      <th>land_area</th>\n",
       "      <th>avg_precipitation</th>\n",
       "      <th>trade_in_servicespercent</th>\n",
       "      <th>control_of_corruption_estimate</th>\n",
       "      <th>control_of_corruption_std</th>\n",
       "      <th>access_to_electricitypercent</th>\n",
       "      <th>...</th>\n",
       "      <th>multidimensional_poverty_headcount_ratiopercent</th>\n",
       "      <th>gini_index</th>\n",
       "      <th>birth_rate</th>\n",
       "      <th>death_rate</th>\n",
       "      <th>life_expectancy_at_birth</th>\n",
       "      <th>population</th>\n",
       "      <th>rural_population</th>\n",
       "      <th>voice_and_accountability_estimate</th>\n",
       "      <th>voice_and_accountability_std</th>\n",
       "      <th>intentional_homicides</th>\n",
       "    </tr>\n",
       "  </thead>\n",
       "  <tbody>\n",
       "    <tr>\n",
       "      <th>45</th>\n",
       "      <td>Afghanistan</td>\n",
       "      <td>2005</td>\n",
       "      <td>58.134400</td>\n",
       "      <td>1.852782</td>\n",
       "      <td>652230.0</td>\n",
       "      <td>327.0</td>\n",
       "      <td>NaN</td>\n",
       "      <td>-1.447252</td>\n",
       "      <td>0.207366</td>\n",
       "      <td>28.669672</td>\n",
       "      <td>...</td>\n",
       "      <td>NaN</td>\n",
       "      <td>NaN</td>\n",
       "      <td>45.263</td>\n",
       "      <td>9.941</td>\n",
       "      <td>58.361</td>\n",
       "      <td>24411191.0</td>\n",
       "      <td>18869118.0</td>\n",
       "      <td>-1.125430</td>\n",
       "      <td>0.173295</td>\n",
       "      <td>NaN</td>\n",
       "    </tr>\n",
       "    <tr>\n",
       "      <th>46</th>\n",
       "      <td>Afghanistan</td>\n",
       "      <td>2006</td>\n",
       "      <td>58.123668</td>\n",
       "      <td>1.852782</td>\n",
       "      <td>652230.0</td>\n",
       "      <td>327.0</td>\n",
       "      <td>NaN</td>\n",
       "      <td>-1.446292</td>\n",
       "      <td>0.207394</td>\n",
       "      <td>33.544418</td>\n",
       "      <td>...</td>\n",
       "      <td>NaN</td>\n",
       "      <td>NaN</td>\n",
       "      <td>44.721</td>\n",
       "      <td>9.679</td>\n",
       "      <td>58.684</td>\n",
       "      <td>25442944.0</td>\n",
       "      <td>19614729.0</td>\n",
       "      <td>-1.110294</td>\n",
       "      <td>0.150166</td>\n",
       "      <td>NaN</td>\n",
       "    </tr>\n",
       "    <tr>\n",
       "      <th>47</th>\n",
       "      <td>Afghanistan</td>\n",
       "      <td>2007</td>\n",
       "      <td>58.129801</td>\n",
       "      <td>1.852782</td>\n",
       "      <td>652230.0</td>\n",
       "      <td>327.0</td>\n",
       "      <td>NaN</td>\n",
       "      <td>-1.613251</td>\n",
       "      <td>0.232797</td>\n",
       "      <td>38.440002</td>\n",
       "      <td>...</td>\n",
       "      <td>NaN</td>\n",
       "      <td>NaN</td>\n",
       "      <td>43.858</td>\n",
       "      <td>9.359</td>\n",
       "      <td>59.111</td>\n",
       "      <td>25903301.0</td>\n",
       "      <td>19916271.0</td>\n",
       "      <td>-1.057654</td>\n",
       "      <td>0.145505</td>\n",
       "      <td>NaN</td>\n",
       "    </tr>\n",
       "    <tr>\n",
       "      <th>48</th>\n",
       "      <td>Afghanistan</td>\n",
       "      <td>2008</td>\n",
       "      <td>58.132867</td>\n",
       "      <td>1.852782</td>\n",
       "      <td>652230.0</td>\n",
       "      <td>327.0</td>\n",
       "      <td>20.211726</td>\n",
       "      <td>-1.672096</td>\n",
       "      <td>0.224345</td>\n",
       "      <td>42.400000</td>\n",
       "      <td>...</td>\n",
       "      <td>NaN</td>\n",
       "      <td>NaN</td>\n",
       "      <td>41.506</td>\n",
       "      <td>8.832</td>\n",
       "      <td>59.852</td>\n",
       "      <td>26427199.0</td>\n",
       "      <td>20264376.0</td>\n",
       "      <td>-1.168902</td>\n",
       "      <td>0.143899</td>\n",
       "      <td>NaN</td>\n",
       "    </tr>\n",
       "    <tr>\n",
       "      <th>49</th>\n",
       "      <td>Afghanistan</td>\n",
       "      <td>2009</td>\n",
       "      <td>58.132867</td>\n",
       "      <td>1.852782</td>\n",
       "      <td>652230.0</td>\n",
       "      <td>327.0</td>\n",
       "      <td>20.562137</td>\n",
       "      <td>-1.552299</td>\n",
       "      <td>0.203015</td>\n",
       "      <td>48.279007</td>\n",
       "      <td>...</td>\n",
       "      <td>NaN</td>\n",
       "      <td>NaN</td>\n",
       "      <td>41.157</td>\n",
       "      <td>8.535</td>\n",
       "      <td>60.364</td>\n",
       "      <td>27385307.0</td>\n",
       "      <td>20942092.0</td>\n",
       "      <td>-1.375495</td>\n",
       "      <td>0.147715</td>\n",
       "      <td>4.071526</td>\n",
       "    </tr>\n",
       "  </tbody>\n",
       "</table>\n",
       "<p>5 rows × 50 columns</p>\n",
       "</div>"
      ],
      "text/plain": [
       "        Country  Year  agricultural_landpercent  forest_landpercent  \\\n",
       "45  Afghanistan  2005                 58.134400            1.852782   \n",
       "46  Afghanistan  2006                 58.123668            1.852782   \n",
       "47  Afghanistan  2007                 58.129801            1.852782   \n",
       "48  Afghanistan  2008                 58.132867            1.852782   \n",
       "49  Afghanistan  2009                 58.132867            1.852782   \n",
       "\n",
       "    land_area  avg_precipitation  trade_in_servicespercent  \\\n",
       "45   652230.0              327.0                       NaN   \n",
       "46   652230.0              327.0                       NaN   \n",
       "47   652230.0              327.0                       NaN   \n",
       "48   652230.0              327.0                 20.211726   \n",
       "49   652230.0              327.0                 20.562137   \n",
       "\n",
       "    control_of_corruption_estimate  control_of_corruption_std  \\\n",
       "45                       -1.447252                   0.207366   \n",
       "46                       -1.446292                   0.207394   \n",
       "47                       -1.613251                   0.232797   \n",
       "48                       -1.672096                   0.224345   \n",
       "49                       -1.552299                   0.203015   \n",
       "\n",
       "    access_to_electricitypercent  ...  \\\n",
       "45                     28.669672  ...   \n",
       "46                     33.544418  ...   \n",
       "47                     38.440002  ...   \n",
       "48                     42.400000  ...   \n",
       "49                     48.279007  ...   \n",
       "\n",
       "    multidimensional_poverty_headcount_ratiopercent  gini_index  birth_rate  \\\n",
       "45                                              NaN         NaN      45.263   \n",
       "46                                              NaN         NaN      44.721   \n",
       "47                                              NaN         NaN      43.858   \n",
       "48                                              NaN         NaN      41.506   \n",
       "49                                              NaN         NaN      41.157   \n",
       "\n",
       "    death_rate  life_expectancy_at_birth  population  rural_population  \\\n",
       "45       9.941                    58.361  24411191.0        18869118.0   \n",
       "46       9.679                    58.684  25442944.0        19614729.0   \n",
       "47       9.359                    59.111  25903301.0        19916271.0   \n",
       "48       8.832                    59.852  26427199.0        20264376.0   \n",
       "49       8.535                    60.364  27385307.0        20942092.0   \n",
       "\n",
       "    voice_and_accountability_estimate  voice_and_accountability_std  \\\n",
       "45                          -1.125430                      0.173295   \n",
       "46                          -1.110294                      0.150166   \n",
       "47                          -1.057654                      0.145505   \n",
       "48                          -1.168902                      0.143899   \n",
       "49                          -1.375495                      0.147715   \n",
       "\n",
       "    intentional_homicides  \n",
       "45                    NaN  \n",
       "46                    NaN  \n",
       "47                    NaN  \n",
       "48                    NaN  \n",
       "49               4.071526  \n",
       "\n",
       "[5 rows x 50 columns]"
      ]
     },
     "metadata": {},
     "output_type": "display_data"
    }
   ],
   "source": [
    "# Cleaning  Development Indicators Dataset (dev_df) \n",
    "\n",
    "dev_df_cleaned = dev_df.copy()\n",
    "\n",
    "# Columns to keep unchanged\n",
    "cols_to_keep = ['Year', 'Country']\n",
    "other_cols = [col for col in dev_df_cleaned.columns if col not in cols_to_keep]\n",
    "\n",
    "# Clean other columns only\n",
    "cleaned_other_cols = (\n",
    "    pd.Series(other_cols)\n",
    "    .str.strip()\n",
    "    .str.lower()\n",
    "    .str.replace('%', 'percent', regex=True)\n",
    "    .str.replace(' ', '_')\n",
    "    .tolist()\n",
    ")\n",
    "\n",
    "# Construct new column list preserving Year and Country\n",
    "new_columns = []\n",
    "for col in dev_df_cleaned.columns:\n",
    "    if col in cols_to_keep:\n",
    "        new_columns.append(col)\n",
    "    else:\n",
    "        new_columns.append(cleaned_other_cols.pop(0))\n",
    "\n",
    "dev_df_cleaned.columns = new_columns\n",
    "\n",
    "# Filter to years 2005–2022\n",
    "dev_df_cleaned = dev_df_cleaned[\n",
    "    (dev_df_cleaned['Year'] >= 2005) & (dev_df_cleaned['Year'] <= 2022)\n",
    "]\n",
    "\n",
    "# Clean country values: strip whitespace, preserve original case\n",
    "dev_df_cleaned['Country'] = dev_df_cleaned['Country'].str.strip()\n",
    "\n",
    "# Drop rows with missing 'Country' or 'Year'\n",
    "dev_df_cleaned = dev_df_cleaned.dropna(subset=['Country', 'Year'])\n",
    "\n",
    "# Save cleaned dataset\n",
    "dev_df_cleaned.to_csv('./data/clean_dev.csv', index=False)\n",
    "\n",
    "# CHECK\n",
    "print(\"Cleaned dev_df (Year and Country columns uppercase, country values original case):\")\n",
    "display(dev_df_cleaned.head())\n"
   ]
  },
  {
   "cell_type": "code",
   "execution_count": 29,
   "id": "01e8f81c",
   "metadata": {},
   "outputs": [
    {
     "name": "stdout",
     "output_type": "stream",
     "text": [
      "Original columns in dev_df:\n",
      "['Country', 'Year', 'agricultural_land%', 'forest_land%', 'land_area', 'avg_precipitation', 'trade_in_services%', 'control_of_corruption_estimate', 'control_of_corruption_std', 'access_to_electricity%', 'renewvable_energy_consumption%', 'electric_power_consumption', 'CO2_emisions', 'other_greenhouse_emisions', 'population_density', 'inflation_annual%', 'real_interest_rate', 'risk_premium_on_lending', 'research_and_development_expenditure%', 'central_goverment_debt%', 'tax_revenue%', 'expense%', 'goverment_effectiveness_estimate', 'goverment_effectiveness_std', 'human_capital_index', 'doing_business', 'time_to_get_operation_license', 'statistical_performance_indicators', 'individuals_using_internet%', 'logistic_performance_index', 'military_expenditure%', 'GDP_current_US', 'political_stability_estimate', 'political_stability_std', 'rule_of_law_estimate', 'rule_of_law_std', 'regulatory_quality_estimate', 'regulatory_quality_std', 'government_expenditure_on_education%', 'government_health_expenditure%', 'multidimensional_poverty_headcount_ratio%', 'gini_index', 'birth_rate', 'death_rate', 'life_expectancy_at_birth', 'population', 'rural_population', 'voice_and_accountability_estimate', 'voice_and_accountability_std', 'intentional_homicides']\n"
     ]
    }
   ],
   "source": [
    "print(\"Original columns in dev_df:\")\n",
    "print(dev_df.columns.tolist())"
   ]
  }
 ],
 "metadata": {
  "kernelspec": {
   "display_name": "venv",
   "language": "python",
   "name": "python3"
  },
  "language_info": {
   "codemirror_mode": {
    "name": "ipython",
    "version": 3
   },
   "file_extension": ".py",
   "mimetype": "text/x-python",
   "name": "python",
   "nbconvert_exporter": "python",
   "pygments_lexer": "ipython3",
   "version": "3.13.5"
  }
 },
 "nbformat": 4,
 "nbformat_minor": 5
}
